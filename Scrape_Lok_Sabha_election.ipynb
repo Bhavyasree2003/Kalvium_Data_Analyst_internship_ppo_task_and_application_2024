{
  "nbformat": 4,
  "nbformat_minor": 0,
  "metadata": {
    "colab": {
      "provenance": []
    },
    "kernelspec": {
      "name": "python3",
      "display_name": "Python 3"
    },
    "language_info": {
      "name": "python"
    }
  },
  "cells": [
    {
      "cell_type": "code",
      "source": [
        "import requests\n",
        "from bs4 import BeautifulSoup\n",
        "import pandas as pd\n"
      ],
      "metadata": {
        "id": "sDaKxazZ1VDG"
      },
      "execution_count": 12,
      "outputs": []
    },
    {
      "cell_type": "code",
      "source": [
        "url = \"https://results.eci.gov.in/PcResultGenJune2024/index.htm\"\n",
        "response = requests.get(url)\n",
        "soup = BeautifulSoup(response.content, 'html.parser')"
      ],
      "metadata": {
        "id": "Rry1gBvu0zsG"
      },
      "execution_count": 4,
      "outputs": []
    },
    {
      "cell_type": "code",
      "source": [
        "table = soup.find('table')\n"
      ],
      "metadata": {
        "id": "Nqa3bpMe03an"
      },
      "execution_count": 5,
      "outputs": []
    },
    {
      "cell_type": "code",
      "source": [
        "if table:\n",
        "    # Extract headers\n",
        "    headers = [header.text.strip() for header in table.find_all('th')]\n"
      ],
      "metadata": {
        "id": "eqD2SUmC07-s"
      },
      "execution_count": 6,
      "outputs": []
    },
    {
      "cell_type": "code",
      "source": [
        "if table:\n",
        "    # Extract headers\n",
        "    headers = [header.text.strip() for header in table.find_all('th')]\n",
        "\n",
        "    # Extract rows\n",
        "    data = []\n",
        "    rows = table.find_all('tr')\n",
        "    for row in rows:\n",
        "        columns = row.find_all('td')\n",
        "        if columns:\n",
        "            data.append([column.text.strip() for column in columns])\n",
        "  # Convert to DataFrame\n",
        "    if headers and data:\n",
        "        df = pd.DataFrame(data, columns=headers[:len(data[0])])\n",
        "        print(df)\n",
        "\n",
        "        # Save DataFrame to CSV\n",
        "        df.to_csv('election_results_2024.csv', index=False)\n",
        "        print(\"Data saved to election_results_2024.csv\")\n",
        "    else:\n",
        "        print(\"No data found in the table.\")\n",
        "else:\n",
        "    print(\"Table not found on the webpage.\")\n"
      ],
      "metadata": {
        "colab": {
          "base_uri": "https://localhost:8080/"
        },
        "id": "hsDcDZ1G0_9F",
        "outputId": "6a0a578e-71a7-471b-f053-c70d8e2e695b"
      },
      "execution_count": 11,
      "outputs": [
        {
          "output_type": "stream",
          "name": "stdout",
          "text": [
            "                                                Party  Won Leading Total\n",
            "0                        Bharatiya Janata Party - BJP  240       0   240\n",
            "1                      Indian National Congress - INC   99       0    99\n",
            "2                                Samajwadi Party - SP   37       0    37\n",
            "3                 All India Trinamool Congress - AITC   29       0    29\n",
            "4                     Dravida Munnetra Kazhagam - DMK   22       0    22\n",
            "5                                  Telugu Desam - TDP   16       0    16\n",
            "6                        Janata Dal  (United) - JD(U)   12       0    12\n",
            "7      Shiv Sena (Uddhav Balasaheb Thackrey) - SHSUBT    9       0     9\n",
            "8   Nationalist Congress Party – Sharadchandra Paw...    8       0     8\n",
            "9                                     Shiv Sena - SHS    7       0     7\n",
            "10             Lok Janshakti Party(Ram Vilas) - LJPRV    5       0     5\n",
            "11      Yuvajana Sramika Rythu Congress Party - YSRCP    4       0     4\n",
            "12                         Rashtriya Janata Dal - RJD    4       0     4\n",
            "13       Communist Party of India  (Marxist) - CPI(M)    4       0     4\n",
            "14                  Indian Union Muslim League - IUML    3       0     3\n",
            "15                             Aam Aadmi Party - AAAP    3       0     3\n",
            "16                       Jharkhand Mukti Morcha - JMM    3       0     3\n",
            "17                               Janasena Party - JnP    2       0     2\n",
            "18  Communist Party of India  (Marxist-Leninist)  ...    2       0     2\n",
            "19                      Janata Dal  (Secular) - JD(S)    2       0     2\n",
            "20               Viduthalai Chiruthaigal Katchi - VCK    2       0     2\n",
            "21                     Communist Party of India - CPI    2       0     2\n",
            "22                            Rashtriya Lok Dal - RLD    2       0     2\n",
            "23          Jammu & Kashmir National Conference - JKN    2       0     2\n",
            "24              United People’s Party, Liberal - UPPL    1       0     1\n",
            "25                           Asom Gana Parishad - AGP    1       0     1\n",
            "26            Hindustani Awam Morcha (Secular) - HAMS    1       0     1\n",
            "27                              Kerala Congress - KEC    1       0     1\n",
            "28                Revolutionary Socialist Party - RSP    1       0     1\n",
            "29                   Nationalist Congress Party - NCP    1       0     1\n",
            "30                  Voice of the People Party - VOTPP    1       0     1\n",
            "31                      Zoram People’s Movement - ZPM    1       0     1\n",
            "32                          Shiromani Akali Dal - SAD    1       0     1\n",
            "33                  Rashtriya Loktantrik Party - RLTP    1       0     1\n",
            "34                  Bharat Adivasi Party - BHRTADVSIP    1       0     1\n",
            "35                     Sikkim Krantikari Morcha - SKM    1       0     1\n",
            "36      Marumalarchi Dravida Munnetra Kazhagam - MDMK    1       0     1\n",
            "37             Aazad Samaj Party (Kanshi Ram) - ASPKR    1       0     1\n",
            "38                         Apna Dal (Soneylal) - ADAL    1       0     1\n",
            "39                                 AJSU Party - AJSUP    1       0     1\n",
            "40     All India Majlis-E-Ittehadul Muslimeen - AIMIM    1       0     1\n",
            "41                                  Independent - IND    7       0     7\n",
            "Data saved to election_results_2024.csv\n"
          ]
        }
      ]
    }
  ]
}